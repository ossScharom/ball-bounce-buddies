{
 "cells": [
  {
   "cell_type": "markdown",
   "metadata": {},
   "source": [
    "# Analysis of Tags for Table Tennis Leipzig\n"
   ]
  },
  {
   "cell_type": "code",
   "execution_count": 11,
   "metadata": {},
   "outputs": [],
   "source": [
    "import os\n",
    "import json"
   ]
  },
  {
   "cell_type": "code",
   "execution_count": 12,
   "metadata": {},
   "outputs": [
    {
     "data": {
      "text/plain": [
       "'/home/claraleidhold/spatialhumanities/ball-bounce-buddies/data/Leipzig_table_tennis_locations.json'"
      ]
     },
     "execution_count": 12,
     "metadata": {},
     "output_type": "execute_result"
    }
   ],
   "source": [
    "current_dir = os.getcwd()\n",
    "data_dir = os.path.abspath(os.path.join(current_dir, '..', 'Leipzig_table_tennis_locations.json'))\n",
    "data_dir"
   ]
  },
  {
   "cell_type": "code",
   "execution_count": 13,
   "metadata": {},
   "outputs": [],
   "source": [
    "with open(data_dir,'r') as json_file:\n",
    "    data = json.load(json_file)"
   ]
  },
  {
   "cell_type": "code",
   "execution_count": 14,
   "metadata": {},
   "outputs": [
    {
     "name": "stdout",
     "output_type": "stream",
     "text": [
      "There are 143 different Table Tennis Locations in Leipzig\n"
     ]
    }
   ],
   "source": [
    "location_id_count = 0\n",
    "for _, _ in data.items():\n",
    "    location_id_count += 1\n",
    "\n",
    "print('There are %d different Table Tennis Locations in Leipzig' % location_id_count)\n"
   ]
  },
  {
   "cell_type": "markdown",
   "metadata": {},
   "source": [
    "## Tag Overview: Location Description"
   ]
  },
  {
   "cell_type": "markdown",
   "metadata": {},
   "source": [
    "For every Location ID there is a location description, location latitude and longitude existing. \n",
    "Let's discover the location description by analysing its tags:"
   ]
  },
  {
   "cell_type": "code",
   "execution_count": 15,
   "metadata": {},
   "outputs": [],
   "source": [
    "tag_stats = {}\n",
    "for location_info in data.values():\n",
    "\n",
    "    tags = location_info.get('tags', {})\n",
    "    \n",
    "    for tag, value in tags.items():\n",
    "        if tag not in tag_stats:\n",
    "            tag_stats[tag] = {'count': 1, 'values': {value:1}}\n",
    "        else:\n",
    "            tag_stats[tag]['count'] += 1\n",
    "            if value not in tag_stats[tag]['values']:\n",
    "                tag_stats[tag]['values'][value] = 1\n",
    "            else:\n",
    "                tag_stats[tag]['values'][value] += 1\n"
   ]
  },
  {
   "cell_type": "code",
   "execution_count": 16,
   "metadata": {},
   "outputs": [
    {
     "name": "stdout",
     "output_type": "stream",
     "text": [
      "There are 24 unique tags for these locations.\n"
     ]
    }
   ],
   "source": [
    "unique_tags = 0\n",
    "for tag, _ in tag_stats.items():\n",
    "    unique_tags += 1\n",
    "print('There are %d unique tags for these locations.' % unique_tags)"
   ]
  },
  {
   "cell_type": "markdown",
   "metadata": {},
   "source": [
    "This shows the tag appearance out of 143 times."
   ]
  },
  {
   "cell_type": "code",
   "execution_count": 17,
   "metadata": {},
   "outputs": [
    {
     "name": "stdout",
     "output_type": "stream",
     "text": [
      "check_date: 21 \n",
      "leisure: 137 \n",
      "note: 1 \n",
      "sport: 143 \n",
      "wheelchair: 5 \n",
      "access: 29 \n",
      "lit: 21 \n",
      "surface: 1 \n",
      "name: 2 \n",
      "opening_hours: 1 \n",
      "shop: 1 \n",
      "capacity: 6 \n",
      "covered: 6 \n",
      "fee: 3 \n",
      "net: 3 \n",
      "net:material: 3 \n",
      "net:overhang: 3 \n",
      "playability: 3 \n",
      "material: 3 \n",
      "start_date: 1 \n",
      "outdoor: 1 \n",
      "addr:city: 1 \n",
      "addr:postcode: 1 \n",
      "addr:street: 1 \n"
     ]
    }
   ],
   "source": [
    "for key, _ in tag_stats.items():\n",
    "    count = tag_stats.get(key,{}).get('count')\n",
    "    print('%s: %d ' % (key,count))"
   ]
  },
  {
   "cell_type": "code",
   "execution_count": 51,
   "metadata": {},
   "outputs": [
    {
     "name": "stdout",
     "output_type": "stream",
     "text": [
      "Tag statistics:\n",
      "Tag: check_date, Count: 21, Values: {'2022-12-21': 1, '2021-01-11': 1, '2021-09-14': 1, '2022-06-21': 2, '2022-02-03': 1, '2021-03-07': 1, '2021-04-02': 1, '2021-01-19': 1, '2020-12-30': 1, '2021-02-10': 1, '2022-08-08': 1, '2021-02-27': 1, '2022-03-31': 1, '2022-01-17': 1, '2023-05-17': 2, '2022-07-08': 1, '2023-03-16': 1, '2023-02-17': 1, '2023-05-20': 1}\n",
      "Tag: leisure, Count: 137, Values: {'pitch': 136, 'playground': 1}\n",
      "Tag: note, Count: 1, Values: {'1 table': 1}\n",
      "Tag: sport, Count: 143, Values: {'table_tennis': 143}\n",
      "Tag: wheelchair, Count: 5, Values: {'yes': 4, 'limited': 1}\n",
      "Tag: access, Count: 29, Values: {'yes': 20, 'private': 6, 'customers': 2, 'permissive': 1}\n",
      "Tag: lit, Count: 21, Values: {'no': 21}\n",
      "Tag: surface, Count: 1, Values: {'paved': 1}\n",
      "Tag: name, Count: 2, Values: {'TT Shop Leipzig': 1, 'Tischtennisplatz': 1}\n",
      "Tag: opening_hours, Count: 1, Values: {'Tu-Fr 09:00-12:30,14:30-18:00; Sa 09:00-12:30': 1}\n",
      "Tag: shop, Count: 1, Values: {'sports': 1}\n",
      "Tag: capacity, Count: 6, Values: {'2': 1, '1': 5}\n",
      "Tag: covered, Count: 6, Values: {'no': 6}\n",
      "Tag: fee, Count: 3, Values: {'no': 3}\n",
      "Tag: net, Count: 3, Values: {'yes': 3}\n",
      "Tag: net:material, Count: 3, Values: {'metal': 2, 'concrete': 1}\n",
      "Tag: net:overhang, Count: 3, Values: {'0': 3}\n",
      "Tag: playability, Count: 3, Values: {'intermediate': 2, 'excellent': 1}\n",
      "Tag: material, Count: 3, Values: {'concrete': 2, 'stone': 1}\n",
      "Tag: start_date, Count: 1, Values: {'2021': 1}\n",
      "Tag: outdoor, Count: 1, Values: {'yess': 1}\n",
      "Tag: addr:city, Count: 1, Values: {'Leipzig': 1}\n",
      "Tag: addr:postcode, Count: 1, Values: {'04318': 1}\n",
      "Tag: addr:street, Count: 1, Values: {'Liselotte-Herrmann-Straße': 1}\n"
     ]
    }
   ],
   "source": [
    "print('Tag statistics:')\n",
    "for tag, info in tag_stats.items():\n",
    "    count = info['count']\n",
    "    unique_values = info['values']\n",
    "    print(f\"Tag: {tag}, Count: {count}, Values: {unique_values}\")\n"
   ]
  }
 ],
 "metadata": {
  "kernelspec": {
   "display_name": "Python 3",
   "language": "python",
   "name": "python3"
  },
  "language_info": {
   "codemirror_mode": {
    "name": "ipython",
    "version": 3
   },
   "file_extension": ".py",
   "mimetype": "text/x-python",
   "name": "python",
   "nbconvert_exporter": "python",
   "pygments_lexer": "ipython3",
   "version": "3.10.12"
  },
  "orig_nbformat": 4
 },
 "nbformat": 4,
 "nbformat_minor": 2
}
